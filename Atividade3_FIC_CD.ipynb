{
  "nbformat": 4,
  "nbformat_minor": 0,
  "metadata": {
    "colab": {
      "provenance": [],
      "authorship_tag": "ABX9TyOUhdjfLnENrstlRfOE+Mzx",
      "include_colab_link": true
    },
    "kernelspec": {
      "name": "python3",
      "display_name": "Python 3"
    },
    "language_info": {
      "name": "python"
    }
  },
  "cells": [
    {
      "cell_type": "markdown",
      "metadata": {
        "id": "view-in-github",
        "colab_type": "text"
      },
      "source": [
        "<a href=\"https://colab.research.google.com/github/francival-lima/fundamentos-de-inteligencia-computacional-e-ciencia-de-dados/blob/main/Atividade3_FIC_CD.ipynb\" target=\"_parent\"><img src=\"https://colab.research.google.com/assets/colab-badge.svg\" alt=\"Open In Colab\"/></a>"
      ]
    },
    {
      "cell_type": "code",
      "execution_count": null,
      "metadata": {
        "id": "f0evn0q_lyqq"
      },
      "outputs": [],
      "source": []
    },
    {
      "cell_type": "markdown",
      "source": [
        "Arquivo inicial para a atividade 3"
      ],
      "metadata": {
        "id": "zv5lwtUFl2OR"
      }
    },
    {
      "cell_type": "code",
      "source": [
        "# entendendo o exemplo de simulação mostrado na aula.\n",
        "import numpy as np\n",
        "import scipy.stats as stats\n",
        "import matplotlib.pyplot as plt\n",
        "\n",
        "# Simulando uma população de 100.000 valores\n",
        "np.random.seed(42)\n",
        "population = np.random.normal(loc=70, scale=10, size=100000)\n",
        "#loc=mean=70 (média da população original) e scale=std=10 (Desvio padrão da população original)\n",
        "#size= quantidade de medidas/eventos da população. Representa a quantidade total de medidas da população.\n",
        "\n",
        "#Calculando a média da população simulada\n",
        "population_mean = np.mean(population)\n",
        "\n",
        "#Calculando o desvio padrão para a população simulada (ddof=0 para o desvio padrão da população)\n",
        "population_std = np.std(population, ddof=0)\n",
        "\n",
        "print (f\"Média da População: {population_mean:.2f}\" )\n",
        "print (f\"Desvio padrão da População: {population_std:.2f}\")"
      ],
      "metadata": {
        "colab": {
          "base_uri": "https://localhost:8080/"
        },
        "id": "z-w9Ah__xQWU",
        "outputId": "9c8b8940-802c-43d3-a655-e1ee0a9a6dad"
      },
      "execution_count": 10,
      "outputs": [
        {
          "output_type": "stream",
          "name": "stdout",
          "text": [
            "Média da População: 70.01\n",
            "Desvio padrão da População: 10.01\n"
          ]
        }
      ]
    },
    {
      "cell_type": "code",
      "source": [
        "#Retirando uma amostra de 30 indivíduos da população\n",
        "sample_size = 30\n",
        "sample = np.random.choice(population,size=sample_size,replace=False)\n",
        "#print(sample)\n",
        "\n",
        "#Estima a média e o desvio padrão da amostra\n",
        "sample_mean = np.mean(sample)\n",
        "sample_std = np.std(sample,ddof=1) #Calcula o desvio padrão para amostra (ddof=1 para o desvio padrão da amostra)\n",
        "\n",
        "print(f\"Média Estimada da população: {sample_mean:.2f}\")\n",
        "print(f\"Desvio padrão estimado da população: {sample_std:.2f}\")"
      ],
      "metadata": {
        "colab": {
          "base_uri": "https://localhost:8080/"
        },
        "id": "-3F_YkL6xWkf",
        "outputId": "a8899202-9d9e-4b90-be4b-36dfedaeb848"
      },
      "execution_count": 13,
      "outputs": [
        {
          "output_type": "stream",
          "name": "stdout",
          "text": [
            "Média Estimada da população: 70.20\n",
            "Desvio padrão estimado da população: 9.21\n"
          ]
        }
      ]
    }
  ]
}